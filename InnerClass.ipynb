{
 "cells": [
  {
   "cell_type": "code",
   "execution_count": 1,
   "metadata": {},
   "outputs": [
    {
     "name": "stdout",
     "output_type": "stream",
     "text": [
      "Aditya 2\n",
      "HP i5 4\n"
     ]
    }
   ],
   "source": [
    "# INNER CLASS\n",
    "\n",
    "class Student:\n",
    "    def __init__(self,name,roll):\n",
    "        self.name=name\n",
    "        self.roll=roll\n",
    "        self.lap=self.Laptop() # create object of Laptop class\n",
    "\n",
    "    def show(self):\n",
    "        print(self.name,self.roll)\n",
    "        self.lap.show() #calling the show fun of Laptop class\n",
    "    class Laptop:#Inner class\n",
    "            def __init__(self):\n",
    "                self.brand='HP'\n",
    "                self.cpu='i5'\n",
    "                self.ram=4\n",
    "            def show(self):\n",
    "                print(self.brand,self.cpu,self.ram)\n",
    "s1=Student('Aditya',2)\n",
    "s1.show()\n"
   ]
  },
  {
   "cell_type": "code",
   "execution_count": null,
   "metadata": {},
   "outputs": [],
   "source": []
  }
 ],
 "metadata": {
  "kernelspec": {
   "display_name": "Python 3",
   "language": "python",
   "name": "python3"
  },
  "language_info": {
   "codemirror_mode": {
    "name": "ipython",
    "version": 3
   },
   "file_extension": ".py",
   "mimetype": "text/x-python",
   "name": "python",
   "nbconvert_exporter": "python",
   "pygments_lexer": "ipython3",
   "version": "3.7.3"
  }
 },
 "nbformat": 4,
 "nbformat_minor": 2
}
