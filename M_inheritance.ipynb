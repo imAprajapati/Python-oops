{
 "cells": [
  {
   "cell_type": "code",
   "execution_count": 4,
   "metadata": {},
   "outputs": [
    {
     "name": "stdout",
     "output_type": "stream",
     "text": [
      "feature1 working\n",
      "feature2 working\n",
      "feature2 working\n",
      "feature5 working\n"
     ]
    }
   ],
   "source": [
    "#Multi Level Inheritance\n",
    "class A:                    #Parent Class\n",
    "    def feature1(self):\n",
    "        print('feature1 working')\n",
    "    def feature2(self):\n",
    "        print('feature2 working')\n",
    "class B(A):                  #Child Class\n",
    "    def feature3(self):\n",
    "        print('feature3 working')\n",
    "    def feature4(self):\n",
    "        print('faeture4 working')\n",
    "class C(B):                  #Inherit the class B\n",
    "    def feature5(self):\n",
    "        print('feature5 working')\n",
    "a1=A()   #Object of Parent class\n",
    "a1.feature1()\n",
    "a1.feature2()\n",
    "           \n",
    "b1=B()  #Object of Child class\n",
    "b1.feature2()        \n",
    "\n",
    "c1=C() #object of child class\n",
    "c1.feature5()     "
   ]
  },
  {
   "cell_type": "code",
   "execution_count": null,
   "metadata": {},
   "outputs": [],
   "source": []
  }
 ],
 "metadata": {
  "kernelspec": {
   "display_name": "Python 3",
   "language": "python",
   "name": "python3"
  },
  "language_info": {
   "codemirror_mode": {
    "name": "ipython",
    "version": 3
   },
   "file_extension": ".py",
   "mimetype": "text/x-python",
   "name": "python",
   "nbconvert_exporter": "python",
   "pygments_lexer": "ipython3",
   "version": "3.7.3"
  }
 },
 "nbformat": 4,
 "nbformat_minor": 2
}
